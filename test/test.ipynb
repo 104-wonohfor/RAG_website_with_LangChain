{
 "cells": [
  {
   "cell_type": "code",
   "execution_count": null,
   "metadata": {},
   "outputs": [],
   "source": []
  },
  {
   "cell_type": "code",
   "execution_count": null,
   "metadata": {},
   "outputs": [],
   "source": []
  },
  {
   "cell_type": "code",
   "execution_count": null,
   "metadata": {},
   "outputs": [],
   "source": []
  },
  {
   "cell_type": "code",
   "execution_count": 1,
   "metadata": {},
   "outputs": [],
   "source": [
    "from langchain_openai import OpenAIEmbeddings\n",
    "import os\n",
    "\n",
    "embeddings = OpenAIEmbeddings(\n",
    "    base_url=\"https://models.inference.ai.azure.com\",\n",
    "    api_key=os.environ[\"GITHUB_API_KEY\"],\n",
    "    model=\"text-embedding-3-large\"\n",
    ")"
   ]
  },
  {
   "cell_type": "code",
   "execution_count": 3,
   "metadata": {},
   "outputs": [],
   "source": [
    "import os\n",
    "from langchain_pinecone import PineconeVectorStore\n",
    "\n",
    "os.environ['PINECONE_API_KEY'] = os.getenv(\"PINECONE_API_KEY\")\n",
    "\n",
    "index_name = \"docs\"\n",
    "\n",
    "vector_store = PineconeVectorStore(index_name=index_name, embedding=embeddings)\n",
    "\n",
    "def build_retriever(chat_args):\n",
    "    search_kwargs = {\"filter\": {\"pdf_id\": chat_args.pdf_id}}\n",
    "\n",
    "    return vector_store.as_retriever(\n",
    "        search_kwargs=search_kwargs\n",
    "    )"
   ]
  },
  {
   "cell_type": "code",
   "execution_count": 2,
   "metadata": {},
   "outputs": [],
   "source": [
    "from langchain_community.document_loaders import PyPDFLoader\n",
    "from langchain_text_splitters import RecursiveCharacterTextSplitter\n",
    "from langchain_core.vectorstores import InMemoryVectorStore\n",
    "\n",
    "import sys\n",
    "\n",
    "\n",
    "text_splitter = RecursiveCharacterTextSplitter(\n",
    "    chunk_size=500,\n",
    "    chunk_overlap=100,\n",
    ") \n",
    "\n",
    "loader = PyPDFLoader(\"008_spice.pdf\")\n",
    "docs = loader.load_and_split(text_splitter)\n",
    "\n",
    "splits = text_splitter.split_documents(docs)\n",
    "vectorstore = InMemoryVectorStore.from_documents(\n",
    "    documents=splits, embedding=embeddings\n",
    ")\n",
    "retriever = vectorstore.as_retriever()"
   ]
  },
  {
   "cell_type": "code",
   "execution_count": 3,
   "metadata": {},
   "outputs": [
    {
     "name": "stdout",
     "output_type": "stream",
     "text": [
      "[Document(metadata={'source': '008_spice.pdf', 'page': 0}, page_content='Spices\\nSpices at a central market in Agadir,\\nMorocco\\nA group of Indian herbs and spices in\\nbowls\\nSpices of Saúde flea market, São\\nPaulo, BrazilSpice\\nA spice is a seed, fruit, root, bark, or other plant substance\\nprimarily used for flavoring or coloring food. Spices are\\ndistinguished from herbs, which are the leaves, flowers, or stems of\\nplants used for flavoring or as a garnish. Spices are sometimes used\\nin medicine, religious rituals, cosmetics, or perfume produc tion.'), Document(metadata={'source': '008_spice.pdf', 'page': 0}, page_content='in medicine, religious rituals, cosmetics, or perfume produc tion.\\nFor example, vanilla is commonly used as an ingredient in\\nfragrance manufacturing.[1]\\nA spice may be available in several forms: fresh, whole-dried, or\\npre-ground dried. Generally, spices are dried. Spices may be\\nground into a powder for conve nience. A whole dried spice has the\\nlonge st shelf life, so it can be purchased and stored in larger\\namounts, making it cheaper on a per-serving basis. A fresh spice,'), Document(metadata={'source': '008_spice.pdf', 'page': 0}, page_content='amounts, making it cheaper on a per-serving basis. A fresh spice,\\nsuch as ginger, is usually more flavorful than its dried form, but\\nfresh spices are more expensive and have a much shorter shelf life.\\nSome spices are not always available either fresh or whole, for\\nexample, turmeric, and often must be purchased in ground form.\\nSmall seeds, such as fennel and mustard seeds, are often used both\\nwhole and in pow der form.\\nAs of 2019, there is not enough clinical evidence to indicate that'), Document(metadata={'source': '008_spice.pdf', 'page': 0}, page_content=\"whole and in pow der form.\\nAs of 2019, there is not enough clinical evidence to indicate that\\nconsuming spices affects hum an health.[2]\\nIndia contributes to 75% of global spice produc tion. This is\\nreflected culturally through their cuisine; historically, the spice trade\\ndeveloped throughout  the Indian subcontinent as well as in East\\nAsia and the Middle East. Europe's demand for spices was among\\nthe econom ic and cultural factors that encouraged exploration in\\nthe early modern period.\"), Document(metadata={'source': '008_spice.pdf', 'page': 0}, page_content='the econom ic and cultural factors that encouraged exploration in\\nthe early modern period.\\nThe word spice originated in Middle English[3] which came from\\nthe Old French words espece, espis(c)e, and espis(c)e.[4]\\nAccording to the Middle English Dictionary, the Old French words\\ncame from Anglo-French spece;[4] according to Merriam Webster,Etymology'), Document(metadata={'source': '008_spice.pdf', 'page': 1}, page_content='the Old-French words came from Anglo-French espece, and espis.[3] Both publications agree that the\\nAnglo-French words are derived from Latin species.[3][4] Middle English spice had its first know n use as a\\nnoun i n the 13th century.[3]\\nThe spice trade developed throughout  the Indian subcontinent[5] and Middle East by 2000 BCE with\\ncinnamon and black pepper, and in East Asia with herbs and pepper. The Egyptians used herbs for cuisine'), Document(metadata={'source': '008_spice.pdf', 'page': 1}, page_content='and mummification. Their demand for exotic spices and he rbs helped stimulate world trade.\\nCloves were used in Mesopotamia by 1700 BCE.[note 1] The earliest written records of spices come from\\nancient Egyptian, Chinese, and Indian cultures. The Ebers Papyrus from early Egypt dating from 1550\\nBCE describes some eight hundr ed different herbal medicinal remedies and numerous medicinal\\nprocedures.[9]'), Document(metadata={'source': '008_spice.pdf', 'page': 1}, page_content='procedures.[9]\\nBy 1000 BCE, medical systems based upon herbs could be found in China, Korea, and India. Early uses\\nwere conne cted with magic, medicine, religion, tradition, a nd pr eservation.[10]\\nIndone sian merchants traveled around China, India, the Middle East, and the east coast of Africa. Arab\\nmerchants facilitated the routes through the Middle East and India. This resulted in the Egyptian port city of'), Document(metadata={'source': '008_spice.pdf', 'page': 1}, page_content='Alexandria being the main trading center for spices. The most important discovery prior to the European\\nspice trade was the monsoon winds (40 CE). Sailing from Eastern spice cultivators to Western European\\nconsumers gradually replaced the land-locked spice routes once facilitated by the Middle East Arab\\ncaravans.[10]\\nSpices were prominent enough in the ancient world that they are mentioned in the Old Testament. In'), Document(metadata={'source': '008_spice.pdf', 'page': 1}, page_content='Spices were prominent enough in the ancient world that they are mentioned in the Old Testament. In\\nGenesis, Joseph was sold into slavery by his brothers to spice merchants. In Exodus , manna is described as\\nbeing similar to coriander in appearance. In the Song of Solomon, the male narrator compares his beloved\\nto many saffron, c innamon, a nd ot her spices.\\nThe ancient Indian epic Ramayana mentions cloves.'), Document(metadata={'source': '008_spice.pdf', 'page': 1}, page_content='to many saffron, c innamon, a nd ot her spices.\\nThe ancient Indian epic Ramayana mentions cloves.\\nHistorians believe that nutmeg, which originates from the Banda Islands in Southeast Asia, was introduc ed\\nto Europe in the 6th century BCE.[11] The Romans had cloves in the 1st century CE, as Pliny the Elder\\nwrote about them.[12]\\nSpices were among the most demanded and expensive produc ts available in Europe in the Middle Ages,[5]'), Document(metadata={'source': '008_spice.pdf', 'page': 1}, page_content='the most common being black pepper, cinnamon (and the cheaper alternative cassia), cumin, nutmeg,\\nginger, and cloves. Given medieval medicine\\'s main theory of humorism, spices and herbs were\\nindispensable to balance \"humors\" in food,[6] on a daily basis for good health at a time of recurrent\\npandemics. In addition to being desired by those using medieval medicine, the European elite also craved'), Document(metadata={'source': '008_spice.pdf', 'page': 1}, page_content='spices in the Middle Ages, believing spices to be from and a conne ction to \"paradise\".[13] An example of\\nthe European aristocracy\\'s demand for spice comes from the King of Aragon, who invested substantial\\nresources into bringing back spices to Spain in the 12th century. He was specifically looking for spices to\\nput in wine and w as not alone among European monarchs at the time to have such a desire for spice.[14]History\\nEarly history\\nMiddle Ages'), Document(metadata={'source': '008_spice.pdf', 'page': 2}, page_content='\"The Mullus\" harvesting pepper.\\nIllustration from a French edition of\\nThe Travels of Marco Polo.\\nTurmeric powder, mustard seeds,\\nchili powder, cumin seedsSpices were all imported from plantations in Asia and Africa, which\\nmade them expensive. From the 8th until the 15th century, the\\nRepublic of Venice held a monopol y on spice trade with the Middle\\nEast, using this position to dominate the neighbor ing Italian\\nmaritime republics and city-states. The trade made the region rich. It'), Document(metadata={'source': '008_spice.pdf', 'page': 2}, page_content='maritime republics and city-states. The trade made the region rich. It\\nhas been estimated that around 1,000 tons of pepper and 1,000 tons\\nof other common spices were imported into Western Europe each\\nyear during the Late Middle Ages. The value of these goods  was\\nthe equivalent of a yearly supply of grain for 1.5 million people.[15]\\nThe most exclusive was saffron, used as much for its vivid yellow-\\nred color as for its flavor. Spices that have now fallen into obscurity'), Document(metadata={'source': '008_spice.pdf', 'page': 2}, page_content='red color as for its flavor. Spices that have now fallen into obscurity\\nin European cuisine include grains of paradise, a relative of\\ncardamom which mostly replaced pepper in late medieval north\\nFrench cooking, long pe pper, mace, spikenard, galangal, and cubeb.[16]\\nSpain and Portugal were interested in seeking new routes to trade in spices and other valuable produc ts\\nfrom Asia. The control of trade routes and the spice-produc ing regions were the main reasons that'), Document(metadata={'source': '008_spice.pdf', 'page': 2}, page_content='from Asia. The control of trade routes and the spice-produc ing regions were the main reasons that\\nPortugue se navigator Vasco da Gama sailed to India in 1499.[8] When da Gama discovered the pepper\\nmarket in India, he was able to secure peppers for a much cheaper price than the ones demanded by\\nVenice.[14] At around  the same time, Christophe r Columbus returned from the New World. He described to\\ninvestors the new spices available there.'), Document(metadata={'source': '008_spice.pdf', 'page': 2}, page_content='investors the new spices available there.\\nAnother source of competition in the spice trade during the 15th and 16th centuries was the Ragusans from\\nthe maritime republic of Dubrovnik in southern Croatia.[17] The military prowess of Afonso de\\nAlbuque rque (1453–1515)  allowed the Portugue se to take control of the sea routes to India. In 1506, he\\ntook the island of Socotra in the mouth of the Red Sea and, in 1507, Ormuz in the Persian Gulf. Since'), Document(metadata={'source': '008_spice.pdf', 'page': 2}, page_content='becoming the viceroy of the Indies, he took Goa in India in 1510, and Malacca on the Malay peninsula in\\n1511. The Portugue se could now  trade directly with Siam, China, and the Maluku I slands.\\nWith the discovery of the New World came new spices, including allspice, chili peppers, vanilla, and\\nchocolate. This development kept the spice trade, with America as a latecomer with its new seasonings,\\nprofitable well into the 19th century.'), Document(metadata={'source': '008_spice.pdf', 'page': 2}, page_content='profitable well into the 19th century.\\nSpices are primarily used as food flavoring or to create variety.[18]\\nThey are also used to perfume cosmetics and incense. At various\\nperiods, many spices were used in herbal medicine. Finally, since\\nthey are expensive, rare, and exotic commodities, their conspicuous\\nconsumption has often been a symbol of wealth and social class.[16]\\nIt is often claimed that spices were used either as food preservatives'), Document(metadata={'source': '008_spice.pdf', 'page': 2}, page_content='It is often claimed that spices were used either as food preservatives\\nor to mask the taste of spoiled meat, especially in the European\\nMiddle Ages.[16][19] This is false.[20][21][22][16] In fact, spices are\\nrather ineffective as preservatives as compared to salting, smoking,Early modern period\\nFunction\\nPreservative claim'), Document(metadata={'source': '008_spice.pdf', 'page': 3}, page_content='The most popul ar explanation for\\nthe love of spices in the Middle\\nAges is that they were used to\\npreserve meat from spoiling, or to\\ncover up the taste of meat that\\nhad already gone  off. This\\ncompelling but false idea\\nconstitutes something of an urban\\nlegend, a story so instinctively\\nattractive that mere fact seems\\nunable to wipe it out... Anyone\\nwho could afford spices could\\neasily find meat fresher than what\\ncity dwellers today buy in their\\nlocal supermarket.[16]'), Document(metadata={'source': '008_spice.pdf', 'page': 3}, page_content='easily find meat fresher than what\\ncity dwellers today buy in their\\nlocal supermarket.[16]\\nA plate of Indian herbs and spicespickling, or drying, and are ineffective in covering the taste of\\nspoiled meat.[16] Moreover, spices have always been\\ncomparatively expensive: in 15th century Oxford, a whole pig cost\\nabout the same as a pound of the cheapest spice, pepper.[16] There\\nis also no evidence of such use from contemporary cookbooks :\\n\"Old cookbooks  make it clear that spices weren\\'t used as a'), Document(metadata={'source': '008_spice.pdf', 'page': 3}, page_content='\"Old cookbooks  make it clear that spices weren\\'t used as a\\npreservative. They typically sugge st adding spices toward the end\\nof the cooking process, where they could have no preservative\\neffect whatsoever.\"[23] Indeed, Cristoforo di Messisbugo\\nsugge sted in the 16th century that pepper may speed up\\nspoilage.[23]\\nThough some spices have antimicrobial properties in vitro,[24]\\npepper—by far the most common spice—is relatively ineffective,'), Document(metadata={'source': '008_spice.pdf', 'page': 3}, page_content='pepper—by far the most common spice—is relatively ineffective,\\nand in any case, salt, which is far cheaper, is also far more\\neffective.[23]\\nSeeds, such as fennel, mustard, nutmeg, and black\\npepper\\nFruits, such as Cayenne pepper and Chimayo pepper\\nArils, such as mace (part of nutmeg plant fruit)\\nBarks, such as True Cinnamon and cassia\\nFlower buds, such as cloves\\nStigmas, such as saffron\\nRoots and rhizomes, such as turmeric, ginger and\\ngalangal\\nResins, such as asafoetida\\nAdvieh (Iran)'), Document(metadata={'source': '008_spice.pdf', 'page': 3}, page_content='Roots and rhizomes, such as turmeric, ginger and\\ngalangal\\nResins, such as asafoetida\\nAdvieh (Iran)\\nBaharat (Arab world, and the Middle East in general)\\nBerbere (Ethiopia, Eritrea and Somalia)\\nBumbu (Indonesia)\\nCajun (United States)\\nChaat masala (Indian subcontinent)\\nChili powder and crushed red pepper (Cayenne, Chipotle, Jalapeño, New Mexico, Tabasco,\\nand other cultivars)\\nCurry powder\\nFive-spice powder (China)Classification and types\\nCulinary herbs and spices\\nBotanical basis'), Document(metadata={'source': '008_spice.pdf', 'page': 3}, page_content='Five-spice powder (China)Classification and types\\nCulinary herbs and spices\\nBotanical basis\\nCommon spice mixtures'), Document(metadata={'source': '008_spice.pdf', 'page': 4}, page_content='A shelf of common spices for a\\nhome kitchen in Canada or the\\nUnited States\\nPepper millGaram masala (Indian subcontinent)\\nHarissa (North Africa)\\nHawaij (Yemen)\\nJerk spice (Jamaica)\\nKhmeli suneli (Georgia, former U.S.S.R.)\\nMasala (a generic name for any mix used in the Indian subcontinent)\\nMixed spice (United Kingdom)\\nPanch phoron (Indian subcontinent)\\nPumpkin pie spice (United States)\\nQuatre épices (France)\\nRas el hanout (North Africa)\\nSharena sol (literally \"colorful salt\", Bulgaria)'), Document(metadata={'source': '008_spice.pdf', 'page': 4}, page_content='Ras el hanout (North Africa)\\nSharena sol (literally \"colorful salt\", Bulgaria)\\nShichimi tōgarashi (Japan)\\nSpeculaas (Belgium and Netherlands)\\nThuna Paha (Sri Lanka)\\nVegeta (Croatia)\\nZa\\'atar (Middle East)\\nFor ground spices, to grind a whole spice, the\\nclassic tool is mortar and pestle. Less labor-\\nintensive tools are more common now: a\\nmicroplane or fine grater can be used to grind\\nsmall amounts; a coffee grinder[note 2] is\\nuseful for larger amounts. A frequently used'), Document(metadata={'source': '008_spice.pdf', 'page': 4}, page_content='small amounts; a coffee grinder[note 2] is\\nuseful for larger amounts. A frequently used\\nspice such as black pepper may merit storage\\nin its own hand gr inder or mill.\\nThe flavor of a spice is derived in part from\\ncompounds  (volatile oils) that oxidize or\\nevaporate when exposed to air. Grinding a\\nspice greatly increases its surface area and so increases the rates of\\noxidation and evaporation. Thus, the flavor is maximized by storing a spice whole and grinding when'), Document(metadata={'source': '008_spice.pdf', 'page': 4}, page_content='oxidation and evaporation. Thus, the flavor is maximized by storing a spice whole and grinding when\\nneeded. The shelf life of a whole dry spice is roughl y two years; of a ground spice roughl y six months.[25]\\nThe \"flavor life\" of a ground spice can be much shorter.[note 3] Ground spices are better stored away from\\nlight.[note 4]\\nSome flavor elements in spices are soluble in water; many are soluble in oil or fat. As a general rule, the'), Document(metadata={'source': '008_spice.pdf', 'page': 4}, page_content='flavors from a spice take time to infuse into the food so spices are added early in preparation. This contrasts\\nto herbs which are usually added late in preparation.[25]Handling\\nSalmonella contamination'), Document(metadata={'source': '008_spice.pdf', 'page': 5}, page_content='Spices and herbs at a shop in Goa,\\nIndiaTop Spice Producing Countries\\n(in metric tonnes)\\nRank Country 2010 2011\\n1 India 1,474,9001,525,000\\n2 Bangladesh128,517 139,775\\n3 Turkey 107,000 113,783\\n4 China 90,000 95,890\\n5 Pakistan 53,647 53,620\\n6 Iran 18,028 21,307\\n7 Nepal 20,360 20,905\\n8 Colombia 16,998 19,378\\n9 Ethiopia 27,122 17,905\\n10 Sri Lanka 8,293 8,438\\n— World 1,995,5232,063,472'), Document(metadata={'source': '008_spice.pdf', 'page': 5}, page_content='9 Ethiopia 27,122 17,905\\n10 Sri Lanka 8,293 8,438\\n— World 1,995,5232,063,472\\nSource: UN Food & Agriculture Organization[30]A study by the Food and Drug Administration of shipments of spices to the United States during fiscal\\nyears 2007 –2009 showed about 7% of the shipments were contaminated by Salmonella bacteria, some of it\\nantibiotic-resistant.[26] As most spices are cooke d before being served salmonella contamination often has'), Document(metadata={'source': '008_spice.pdf', 'page': 5}, page_content='no effect, but some spices, particularly pepper, are often eaten raw and present at table for conve nient use.\\nShipments from Mexico and India, a major produc er, were the most frequently contaminated.[27] Food\\nirradiation is said to minimise this risk.[28][29]\\nProduction\\nStandardization')]\n"
     ]
    }
   ],
   "source": [
    "print(docs)"
   ]
  },
  {
   "cell_type": "code",
   "execution_count": 3,
   "metadata": {},
   "outputs": [],
   "source": [
    "from langchain.chains import create_history_aware_retriever, create_retrieval_chain\n",
    "from langchain_community.document_loaders import PyPDFLoader\n",
    "from langchain.chains.combine_documents import create_stuff_documents_chain\n",
    "from langchain_community.document_loaders import WebBaseLoader\n",
    "from langchain_core.messages import AIMessage, BaseMessage, HumanMessage\n",
    "from langchain_core.prompts import ChatPromptTemplate, MessagesPlaceholder\n",
    "from langchain_core.vectorstores import InMemoryVectorStore\n",
    "from langchain_openai import ChatOpenAI, OpenAIEmbeddings\n",
    "from langchain_text_splitters import RecursiveCharacterTextSplitter\n",
    "from langgraph.checkpoint.memory import MemorySaver\n",
    "from langgraph.graph import START, StateGraph\n",
    "from langgraph.graph.message import add_messages\n",
    "from typing_extensions import Annotated, TypedDict\n",
    "from typing import Sequence\n",
    "import os\n",
    "from langchain_openai import OpenAIEmbeddings\n",
    "\n",
    "embeddings = OpenAIEmbeddings(\n",
    "    base_url=\"https://models.inference.ai.azure.com\",\n",
    "    api_key=os.environ[\"GITHUB_API_KEY\"],\n",
    "    model=\"text-embedding-3-large\"\n",
    ")\n",
    "\n",
    "llm = ChatOpenAI(\n",
    "    model=\"gpt-4o-mini\",\n",
    "    base_url=\"https://models.inference.ai.azure.com\",\n",
    "    api_key=os.environ.get(\"GITHUB_API_KEY\")\n",
    ")\n",
    "\n",
    "text_splitter = RecursiveCharacterTextSplitter(\n",
    "    chunk_size=500,\n",
    "    chunk_overlap=100,\n",
    ") \n",
    "\n",
    "loader = PyPDFLoader(\"008_spice.pdf\")\n",
    "docs = loader.load_and_split(text_splitter)\n",
    "\n",
    "splits = text_splitter.split_documents(docs)\n",
    "vectorstore = InMemoryVectorStore.from_documents(\n",
    "    documents=splits, embedding=embeddings\n",
    ")\n",
    "retriever = vectorstore.as_retriever()\n",
    "\n",
    "contextualize_q_system_prompt = (\n",
    "    \"Given a chat history and the latest user question \"\n",
    "    \"which might reference context in the chat history, \"\n",
    "    \"formulate a standalone question which can be understood \"\n",
    "    \"without the chat history. Do NOT answer the question, \"\n",
    "    \"just reformulate it if needed and otherwise return it as is.\"\n",
    ")\n",
    "contextualize_q_prompt = ChatPromptTemplate.from_messages(\n",
    "    [\n",
    "        (\"system\", contextualize_q_system_prompt),\n",
    "        MessagesPlaceholder(\"chat_history\"),\n",
    "        (\"human\", \"{input}\"),\n",
    "    ]\n",
    ")\n",
    "history_aware_retriever = create_history_aware_retriever(\n",
    "    llm, retriever, contextualize_q_prompt\n",
    ")\n",
    "\n",
    "### Answer question ###\n",
    "system_prompt = (\n",
    "    \"You are an assistant for question-answering tasks. \"\n",
    "    \"Use the following pieces of retrieved context to answer \"\n",
    "    \"the question. If you don't know the answer, say that you \"\n",
    "    \"don't know. Use three sentences maximum and keep the \"\n",
    "    \"answer concise.\"\n",
    "    \"\\n\\n\"\n",
    "    \"{context}\"\n",
    ")\n",
    "qa_prompt = ChatPromptTemplate.from_messages(\n",
    "    [\n",
    "        (\"system\", system_prompt),\n",
    "        MessagesPlaceholder(\"chat_history\"),\n",
    "        (\"human\", \"{input}\"),\n",
    "    ]\n",
    ")\n",
    "question_answer_chain = create_stuff_documents_chain(llm, qa_prompt)\n",
    "\n",
    "rag_chain = create_retrieval_chain(history_aware_retriever, question_answer_chain)\n",
    "\n",
    "\n",
    "### Statefully manage chat history ###\n",
    "class State(TypedDict):\n",
    "    input: str\n",
    "    chat_history: Annotated[Sequence[BaseMessage], add_messages]\n",
    "    context: str\n",
    "    answer: str\n",
    "\n",
    "\n",
    "def call_model(state: State):\n",
    "    response = rag_chain.invoke(state)\n",
    "    return {\n",
    "        \"chat_history\": [\n",
    "            HumanMessage(state[\"input\"]),\n",
    "            AIMessage(response[\"answer\"]),\n",
    "        ],\n",
    "        \"context\": response[\"context\"],\n",
    "        \"answer\": response[\"answer\"],\n",
    "    }\n",
    "\n",
    "workflow = StateGraph(state_schema=State)\n",
    "workflow.add_edge(START, \"model\")\n",
    "workflow.add_node(\"model\", call_model)\n",
    "\n",
    "memory = MemorySaver()\n",
    "app = workflow.compile(checkpointer=memory)"
   ]
  },
  {
   "cell_type": "code",
   "execution_count": 4,
   "metadata": {},
   "outputs": [
    {
     "name": "stdout",
     "output_type": "stream",
     "text": [
      "India produces the most spices, contributing to 75% of global spice production. In 2011, it produced 1,525,000 metric tonnes.\n"
     ]
    }
   ],
   "source": [
    "config = {\"configurable\": {\"thread_id\": \"abc123\"}}\n",
    "\n",
    "result = app.invoke(\n",
    "    {\"input\": \"Which country produces most spices?\"},\n",
    "    config=config,\n",
    ")\n",
    "print(result[\"answer\"])"
   ]
  },
  {
   "cell_type": "code",
   "execution_count": 5,
   "metadata": {},
   "outputs": [
    {
     "name": "stdout",
     "output_type": "stream",
     "text": [
      "In 2011, India produced 1,525,000 metric tonnes of spices.\n"
     ]
    }
   ],
   "source": [
    "result = app.invoke(\n",
    "    {\"input\": \"How much they produce?\"},\n",
    "    config=config,\n",
    ")\n",
    "print(result[\"answer\"])"
   ]
  },
  {
   "cell_type": "code",
   "execution_count": 6,
   "metadata": {},
   "outputs": [
    {
     "name": "stdout",
     "output_type": "stream",
     "text": [
      "{'input': 'How much they produce?', 'chat_history': [HumanMessage(content='Which country produces most spices?', additional_kwargs={}, response_metadata={}, id='f2a413f6-67f8-4ba1-8fe7-0fb6243807b5'), AIMessage(content='India produces the most spices, contributing to 75% of global spice production. In 2011, it produced 1,525,000 metric tonnes.', additional_kwargs={}, response_metadata={}, id='683ff3dd-feb3-44c2-b9ac-1a13c7152043'), HumanMessage(content='How much they produce?', additional_kwargs={}, response_metadata={}, id='a227f23d-e582-4529-b8c6-306aec79223b'), AIMessage(content='In 2011, India produced 1,525,000 metric tonnes of spices.', additional_kwargs={}, response_metadata={}, id='87edc17a-ca8d-4459-9e86-9ab65d2d498b')], 'context': [Document(id='3115be65-0920-4ade-abe1-5c10286beb53', metadata={'source': '008_spice.pdf', 'page': 5}, page_content='Spices and herbs at a shop in Goa,\\nIndiaTop Spice Producing Countries\\n(in metric tonnes)\\nRank Country 2010 2011\\n1 India 1,474,9001,525,000\\n2 Bangladesh128,517 139,775\\n3 Turkey 107,000 113,783\\n4 China 90,000 95,890\\n5 Pakistan 53,647 53,620\\n6 Iran 18,028 21,307\\n7 Nepal 20,360 20,905\\n8 Colombia 16,998 19,378\\n9 Ethiopia 27,122 17,905\\n10 Sri Lanka 8,293 8,438\\n— World 1,995,5232,063,472'), Document(id='3fc3b497-ceb1-40c4-8f51-f69fbf0cccff', metadata={'source': '008_spice.pdf', 'page': 0}, page_content=\"whole and in pow der form.\\nAs of 2019, there is not enough clinical evidence to indicate that\\nconsuming spices affects hum an health.[2]\\nIndia contributes to 75% of global spice produc tion. This is\\nreflected culturally through their cuisine; historically, the spice trade\\ndeveloped throughout  the Indian subcontinent as well as in East\\nAsia and the Middle East. Europe's demand for spices was among\\nthe econom ic and cultural factors that encouraged exploration in\\nthe early modern period.\"), Document(id='e107b458-54f4-4941-9beb-e681dfc96f8d', metadata={'source': '008_spice.pdf', 'page': 5}, page_content='9 Ethiopia 27,122 17,905\\n10 Sri Lanka 8,293 8,438\\n— World 1,995,5232,063,472\\nSource: UN Food & Agriculture Organization[30]A study by the Food and Drug Administration of shipments of spices to the United States during fiscal\\nyears 2007 –2009 showed about 7% of the shipments were contaminated by Salmonella bacteria, some of it\\nantibiotic-resistant.[26] As most spices are cooke d before being served salmonella contamination often has'), Document(id='0c22f56c-18a9-43f3-a3d8-bc01cf86f658', metadata={'source': '008_spice.pdf', 'page': 3}, page_content='pepper—by far the most common spice—is relatively ineffective,\\nand in any case, salt, which is far cheaper, is also far more\\neffective.[23]\\nSeeds, such as fennel, mustard, nutmeg, and black\\npepper\\nFruits, such as Cayenne pepper and Chimayo pepper\\nArils, such as mace (part of nutmeg plant fruit)\\nBarks, such as True Cinnamon and cassia\\nFlower buds, such as cloves\\nStigmas, such as saffron\\nRoots and rhizomes, such as turmeric, ginger and\\ngalangal\\nResins, such as asafoetida\\nAdvieh (Iran)')], 'answer': 'In 2011, India produced 1,525,000 metric tonnes of spices.'}\n"
     ]
    }
   ],
   "source": [
    "print(result)"
   ]
  },
  {
   "cell_type": "code",
   "execution_count": null,
   "metadata": {},
   "outputs": [],
   "source": []
  },
  {
   "cell_type": "code",
   "execution_count": null,
   "metadata": {},
   "outputs": [],
   "source": []
  },
  {
   "cell_type": "code",
   "execution_count": null,
   "metadata": {},
   "outputs": [],
   "source": []
  },
  {
   "cell_type": "code",
   "execution_count": null,
   "metadata": {},
   "outputs": [],
   "source": []
  },
  {
   "cell_type": "code",
   "execution_count": 2,
   "metadata": {},
   "outputs": [
    {
     "name": "stderr",
     "output_type": "stream",
     "text": [
      "USER_AGENT environment variable not set, consider setting it to identify your requests.\n",
      "h:\\GitHub_of_104\\PDF_LangChain\\.venv\\Lib\\site-packages\\pinecone\\data\\index.py:1: TqdmWarning: IProgress not found. Please update jupyter and ipywidgets. See https://ipywidgets.readthedocs.io/en/stable/user_install.html\n",
      "  from tqdm.autonotebook import tqdm\n"
     ]
    }
   ],
   "source": [
    "from langchain.chains import create_history_aware_retriever, create_retrieval_chain\n",
    "from langchain_community.document_loaders import PyPDFLoader\n",
    "from langchain.chains.combine_documents import create_stuff_documents_chain\n",
    "from langchain_community.document_loaders import WebBaseLoader\n",
    "from langchain_core.messages import AIMessage, BaseMessage, HumanMessage\n",
    "from langchain_core.prompts import ChatPromptTemplate, MessagesPlaceholder\n",
    "from langchain_core.vectorstores import InMemoryVectorStore\n",
    "from langchain_openai import ChatOpenAI, OpenAIEmbeddings\n",
    "from langchain_text_splitters import RecursiveCharacterTextSplitter\n",
    "from langgraph.checkpoint.memory import MemorySaver\n",
    "from langgraph.graph import START, StateGraph\n",
    "from langgraph.graph.message import add_messages\n",
    "from typing_extensions import Annotated, TypedDict\n",
    "from typing import Sequence\n",
    "import os\n",
    "from langchain_openai import OpenAIEmbeddings\n",
    "\n",
    "embeddings = OpenAIEmbeddings(\n",
    "    base_url=\"https://models.inference.ai.azure.com\",\n",
    "    api_key=os.environ[\"GITHUB_API_KEY\"],\n",
    "    model=\"text-embedding-3-large\"\n",
    ")\n",
    "\n",
    "llm = ChatOpenAI(\n",
    "    model=\"gpt-4o-mini\",\n",
    "    base_url=\"https://models.inference.ai.azure.com\",\n",
    "    api_key=os.environ.get(\"GITHUB_API_KEY\")\n",
    ")\n",
    "\n",
    "text_splitter = RecursiveCharacterTextSplitter(\n",
    "    chunk_size=500,\n",
    "    chunk_overlap=100,\n",
    ") \n",
    "\n",
    "# loader = PyPDFLoader(\"008_spice.pdf\")\n",
    "# docs = loader.load_and_split(text_splitter)\n",
    "\n",
    "# splits = text_splitter.split_documents(docs)\n",
    "# vectorstore = InMemoryVectorStore.from_documents(\n",
    "#     documents=splits, embedding=embeddings\n",
    "# )\n",
    "# retriever = vectorstore.as_retriever()\n",
    "\n",
    "from langchain_pinecone import PineconeVectorStore\n",
    "\n",
    "os.environ['PINECONE_API_KEY'] = os.getenv(\"PINECONE_API_KEY\")\n",
    "\n",
    "index_name = \"docs\"\n",
    "\n",
    "vector_store = PineconeVectorStore(index_name=index_name, embedding=embeddings)\n",
    "\n",
    "search_kwargs = {\"filter\": {\"pdf_id\": \"b5f7841d-6055-4c36-a394-01d6ee276b7f\"}}\n",
    "\n",
    "retriever = vector_store.as_retriever(search_kwargs=search_kwargs)\n",
    "\n",
    "\n",
    "\n",
    "contextualize_q_system_prompt = (\n",
    "    \"Given a chat history and the latest user question \"\n",
    "    \"which might reference context in the chat history, \"\n",
    "    \"formulate a standalone question which can be understood \"\n",
    "    \"without the chat history. Do NOT answer the question, \"\n",
    "    \"just reformulate it if needed and otherwise return it as is.\"\n",
    ")\n",
    "contextualize_q_prompt = ChatPromptTemplate.from_messages(\n",
    "    [\n",
    "        (\"system\", contextualize_q_system_prompt),\n",
    "        MessagesPlaceholder(\"chat_history\"),\n",
    "        (\"human\", \"{input}\"),\n",
    "    ]\n",
    ")\n",
    "history_aware_retriever = create_history_aware_retriever(\n",
    "    llm, retriever, contextualize_q_prompt\n",
    ")\n",
    "\n",
    "### Answer question ###\n",
    "system_prompt = (\n",
    "    \"You are an assistant for question-answering tasks. \"\n",
    "    \"Use the following pieces of retrieved context to answer \"\n",
    "    \"the question. If you don't know the answer, say that you \"\n",
    "    \"don't know. Use three sentences maximum and keep the \"\n",
    "    \"answer concise.\"\n",
    "    \"\\n\\n\"\n",
    "    \"{context}\"\n",
    ")\n",
    "qa_prompt = ChatPromptTemplate.from_messages(\n",
    "    [\n",
    "        (\"system\", system_prompt),\n",
    "        MessagesPlaceholder(\"chat_history\"),\n",
    "        (\"human\", \"{input}\"),\n",
    "    ]\n",
    ")\n",
    "question_answer_chain = create_stuff_documents_chain(llm, qa_prompt)\n",
    "\n",
    "rag_chain = create_retrieval_chain(history_aware_retriever, question_answer_chain)\n",
    "\n",
    "\n",
    "### Statefully manage chat history ###\n",
    "class State(TypedDict):\n",
    "    input: str\n",
    "    chat_history: Annotated[Sequence[BaseMessage], add_messages]\n",
    "    context: str\n",
    "    answer: str\n",
    "\n",
    "\n",
    "def call_model(state: State):\n",
    "    response = rag_chain.invoke(state)\n",
    "    return {\n",
    "        \"chat_history\": [\n",
    "            HumanMessage(state[\"input\"]),\n",
    "            AIMessage(response[\"answer\"]),\n",
    "        ],\n",
    "        \"context\": response[\"context\"],\n",
    "        \"answer\": response[\"answer\"],\n",
    "    }\n",
    "\n",
    "workflow = StateGraph(state_schema=State)\n",
    "workflow.add_edge(START, \"model\")\n",
    "workflow.add_node(\"model\", call_model)\n",
    "\n",
    "memory = MemorySaver()\n",
    "app = workflow.compile(checkpointer=memory)"
   ]
  },
  {
   "cell_type": "code",
   "execution_count": 3,
   "metadata": {},
   "outputs": [
    {
     "data": {
      "image/jpeg": "[encoded data removed]",
      "text/plain": [
       "<IPython.core.display.Image object>"
      ]
     },
     "metadata": {},
     "output_type": "display_data"
    }
   ],
   "source": [
    "from IPython.display import Image, display\n",
    "from langchain_core.runnables.graph import MermaidDrawMethod\n",
    "\n",
    "display(\n",
    "    Image(\n",
    "        app.get_graph().draw_mermaid_png(\n",
    "            draw_method=MermaidDrawMethod.API,\n",
    "        )\n",
    "    )\n",
    ")"
   ]
  },
  {
   "cell_type": "code",
   "execution_count": 5,
   "metadata": {},
   "outputs": [],
   "source": [
    "config = {\"configurable\": {\"thread_id\": \"abc123\"}}\n"
   ]
  },
  {
   "cell_type": "code",
   "execution_count": 6,
   "metadata": {},
   "outputs": [
    {
     "name": "stdout",
     "output_type": "stream",
     "text": [
      "India produces the most spices, contributing to 75% of global spice production. In 2011, it produced approximately 1,525,000 metric tonnes of spices.\n"
     ]
    }
   ],
   "source": [
    "result = app.invoke(\n",
    "    {\"input\": \"Which country produces most spices?\"},\n",
    "    config=config,\n",
    ")\n",
    "print(result[\"answer\"])"
   ]
  },
  {
   "cell_type": "code",
   "execution_count": 7,
   "metadata": {},
   "outputs": [
    {
     "name": "stdout",
     "output_type": "stream",
     "text": [
      "{'input': 'Which country produces most spices?', 'chat_history': [HumanMessage(content='Which country produces most spices?', additional_kwargs={}, response_metadata={}, id='9a5c64a8-a3b2-4269-9cc1-dc9d3d7ddb84'), AIMessage(content='India produces the most spices, contributing to 75% of global spice production. In 2011, it produced approximately 1,525,000 metric tonnes of spices.', additional_kwargs={}, response_metadata={}, id='17ab34e3-0bc2-449b-9145-c480df3cdd9a')], 'context': [Document(id='ba10cb75-d8d9-4200-b8ed-92ba118172af', metadata={'page': 5.0, 'pdf_id': 'b5f7841d-6055-4c36-a394-01d6ee276b7f'}, page_content='Spices and herbs at a shop in Goa,\\nIndiaTop Spice Producing Countries\\n(in metric tonnes)\\nRank Country 2010 2011\\n1 India 1,474,9001,525,000\\n2 Bangladesh128,517 139,775\\n3 Turkey 107,000 113,783\\n4 China 90,000 95,890\\n5 Pakistan 53,647 53,620\\n6 Iran 18,028 21,307\\n7 Nepal 20,360 20,905\\n8 Colombia 16,998 19,378\\n9 Ethiopia 27,122 17,905\\n10 Sri Lanka 8,293 8,438\\n— World 1,995,5232,063,472'), Document(id='1cec5c78-6870-47e1-846b-10f3eba4ed68', metadata={'page': 0.0, 'pdf_id': 'b5f7841d-6055-4c36-a394-01d6ee276b7f'}, page_content=\"whole and in pow der form.\\nAs of 2019, there is not enough clinical evidence to indicate that\\nconsuming spices affects hum an health.[2]\\nIndia contributes to 75% of global spice produc tion. This is\\nreflected culturally through their cuisine; historically, the spice trade\\ndeveloped throughout  the Indian subcontinent as well as in East\\nAsia and the Middle East. Europe's demand for spices was among\\nthe econom ic and cultural factors that encouraged exploration in\\nthe early modern period.\"), Document(id='acdb9113-c8e0-4422-8e20-465473967e78', metadata={'page': 5.0, 'pdf_id': 'b5f7841d-6055-4c36-a394-01d6ee276b7f'}, page_content='9 Ethiopia 27,122 17,905\\n10 Sri Lanka 8,293 8,438\\n— World 1,995,5232,063,472\\nSource: UN Food & Agriculture Organization[30]A study by the Food and Drug Administration of shipments of spices to the United States during fiscal\\nyears 2007 –2009 showed about 7% of the shipments were contaminated by Salmonella bacteria, some of it\\nantibiotic-resistant.[26] As most spices are cooke d before being served salmonella contamination often has'), Document(id='7941f837-96bb-41bf-b008-a2376cae25ba', metadata={'page': 3.0, 'pdf_id': 'b5f7841d-6055-4c36-a394-01d6ee276b7f'}, page_content='pepper—by far the most common spice—is relatively ineffective,\\nand in any case, salt, which is far cheaper, is also far more\\neffective.[23]\\nSeeds, such as fennel, mustard, nutmeg, and black\\npepper\\nFruits, such as Cayenne pepper and Chimayo pepper\\nArils, such as mace (part of nutmeg plant fruit)\\nBarks, such as True Cinnamon and cassia\\nFlower buds, such as cloves\\nStigmas, such as saffron\\nRoots and rhizomes, such as turmeric, ginger and\\ngalangal\\nResins, such as asafoetida\\nAdvieh (Iran)')], 'answer': 'India produces the most spices, contributing to 75% of global spice production. In 2011, it produced approximately 1,525,000 metric tonnes of spices.'}\n"
     ]
    }
   ],
   "source": [
    "print(result)"
   ]
  },
  {
   "cell_type": "code",
   "execution_count": 4,
   "metadata": {},
   "outputs": [
    {
     "name": "stdout",
     "output_type": "stream",
     "text": [
      "In 2010, India produced 1,474,900 metric tonnes of spices.\n"
     ]
    }
   ],
   "source": [
    "result = app.invoke(\n",
    "    {\"input\": \"How much they produce in 2010?\"},\n",
    "    config=config,\n",
    ")\n",
    "print(result[\"answer\"])"
   ]
  },
  {
   "cell_type": "code",
   "execution_count": 5,
   "metadata": {},
   "outputs": [
    {
     "name": "stdout",
     "output_type": "stream",
     "text": [
      "{'input': 'How much they produce in 2010?', 'chat_history': [HumanMessage(content='Which country produces most spices?', additional_kwargs={}, response_metadata={}, id='cf627642-61d2-4cc0-9113-ea2027776c67'), AIMessage(content='India is the largest producer of spices, contributing to 75% of global spice production. In 2010, India produced 1,474,900 metric tonnes of spices.', additional_kwargs={}, response_metadata={}, id='5db2e6c5-e514-45ec-be84-21bc76d00e67'), HumanMessage(content='How much they produce in 2010?', additional_kwargs={}, response_metadata={}, id='6bc582b4-d0f5-4a9d-b22b-b6a9d1f17035'), AIMessage(content='In 2010, India produced 1,474,900 metric tonnes of spices.', additional_kwargs={}, response_metadata={}, id='31d73b3a-c4a5-40b5-ba0a-391c079c3959')], 'context': [Document(id='0be7cdc5-069f-42b9-ab14-c6587e050e7a', metadata={'page': 5.0, 'pdf_id': '30c50f31-d6f0-4697-a989-fe88e998a9dc'}, page_content='Spices and herbs at a shop in Goa,\\nIndiaTop Spice Producing Countries\\n(in metric tonnes)\\nRank Country 2010 2011\\n1 India 1,474,9001,525,000\\n2 Bangladesh128,517 139,775\\n3 Turkey 107,000 113,783\\n4 China 90,000 95,890\\n5 Pakistan 53,647 53,620\\n6 Iran 18,028 21,307\\n7 Nepal 20,360 20,905\\n8 Colombia 16,998 19,378\\n9 Ethiopia 27,122 17,905\\n10 Sri Lanka 8,293 8,438\\n— World 1,995,5232,063,472'), Document(id='b7d53832-e803-415b-b4b9-37888911d1f0', metadata={'page': 0.0, 'pdf_id': '30c50f31-d6f0-4697-a989-fe88e998a9dc'}, page_content=\"whole and in pow der form.\\nAs of 2019, there is not enough clinical evidence to indicate that\\nconsuming spices affects hum an health.[2]\\nIndia contributes to 75% of global spice produc tion. This is\\nreflected culturally through their cuisine; historically, the spice trade\\ndeveloped throughout  the Indian subcontinent as well as in East\\nAsia and the Middle East. Europe's demand for spices was among\\nthe econom ic and cultural factors that encouraged exploration in\\nthe early modern period.\"), Document(id='2ecdc49a-655b-42e3-83ba-2be311968061', metadata={'page': 5.0, 'pdf_id': '30c50f31-d6f0-4697-a989-fe88e998a9dc'}, page_content='9 Ethiopia 27,122 17,905\\n10 Sri Lanka 8,293 8,438\\n— World 1,995,5232,063,472\\nSource: UN Food & Agriculture Organization[30]A study by the Food and Drug Administration of shipments of spices to the United States during fiscal\\nyears 2007 –2009 showed about 7% of the shipments were contaminated by Salmonella bacteria, some of it\\nantibiotic-resistant.[26] As most spices are cooke d before being served salmonella contamination often has'), Document(id='effaae3c-7d3f-4cad-b45d-58dada486711', metadata={'page': 2.0, 'pdf_id': '30c50f31-d6f0-4697-a989-fe88e998a9dc'}, page_content='profitable well into the 19th century.\\nSpices are primarily used as food flavoring or to create variety.[18]\\nThey are also used to perfume cosmetics and incense. At various\\nperiods, many spices were used in herbal medicine. Finally, since\\nthey are expensive, rare, and exotic commodities, their conspicuous\\nconsumption has often been a symbol of wealth and social class.[16]\\nIt is often claimed that spices were used either as food preservatives')], 'answer': 'In 2010, India produced 1,474,900 metric tonnes of spices.'}\n"
     ]
    }
   ],
   "source": [
    "print(result)"
   ]
  },
  {
   "cell_type": "code",
   "execution_count": 14,
   "metadata": {},
   "outputs": [
    {
     "name": "stdout",
     "output_type": "stream",
     "text": [
      "{'model': {'chat_history': [HumanMessage(content='How much they produce in 2010?', additional_kwargs={}, response_metadata={}, id='cd86f1b6-f36f-431d-8d88-b439f171fff7'), AIMessage(content=\"In 2010, India produced about 7.5 million metric tons of spices. This included a diverse range of spices, reinforcing India's status as the leading producer globally.\", additional_kwargs={}, response_metadata={}, id='79fc56f7-b241-4228-8fcd-7ee1129099f8')], 'context': [], 'answer': \"In 2010, India produced about 7.5 million metric tons of spices. This included a diverse range of spices, reinforcing India's status as the leading producer globally.\"}}\n"
     ]
    }
   ],
   "source": [
    "for chunk in result:\n",
    "    print(chunk)"
   ]
  },
  {
   "cell_type": "code",
   "execution_count": 8,
   "metadata": {},
   "outputs": [
    {
     "name": "stdout",
     "output_type": "stream",
     "text": [
      "{'model': {'chat_history': [HumanMessage(content='Which country produces most spices?', additional_kwargs={}, response_metadata={}, id='94fabe84-080f-44f0-b99e-c0761d4b82c4'), AIMessage(content='India produces the most spices, contributing to 75% of global spice production.', additional_kwargs={}, response_metadata={}, id='01bcfc60-5806-4898-8b76-d9c0ebfadc9f')], 'context': [Document(id='ba10cb75-d8d9-4200-b8ed-92ba118172af', metadata={'page': 5.0, 'pdf_id': 'b5f7841d-6055-4c36-a394-01d6ee276b7f'}, page_content='Spices and herbs at a shop in Goa,\\nIndiaTop Spice Producing Countries\\n(in metric tonnes)\\nRank Country 2010 2011\\n1 India 1,474,9001,525,000\\n2 Bangladesh128,517 139,775\\n3 Turkey 107,000 113,783\\n4 China 90,000 95,890\\n5 Pakistan 53,647 53,620\\n6 Iran 18,028 21,307\\n7 Nepal 20,360 20,905\\n8 Colombia 16,998 19,378\\n9 Ethiopia 27,122 17,905\\n10 Sri Lanka 8,293 8,438\\n— World 1,995,5232,063,472'), Document(id='1cec5c78-6870-47e1-846b-10f3eba4ed68', metadata={'page': 0.0, 'pdf_id': 'b5f7841d-6055-4c36-a394-01d6ee276b7f'}, page_content=\"whole and in pow der form.\\nAs of 2019, there is not enough clinical evidence to indicate that\\nconsuming spices affects hum an health.[2]\\nIndia contributes to 75% of global spice produc tion. This is\\nreflected culturally through their cuisine; historically, the spice trade\\ndeveloped throughout  the Indian subcontinent as well as in East\\nAsia and the Middle East. Europe's demand for spices was among\\nthe econom ic and cultural factors that encouraged exploration in\\nthe early modern period.\"), Document(id='acdb9113-c8e0-4422-8e20-465473967e78', metadata={'page': 5.0, 'pdf_id': 'b5f7841d-6055-4c36-a394-01d6ee276b7f'}, page_content='9 Ethiopia 27,122 17,905\\n10 Sri Lanka 8,293 8,438\\n— World 1,995,5232,063,472\\nSource: UN Food & Agriculture Organization[30]A study by the Food and Drug Administration of shipments of spices to the United States during fiscal\\nyears 2007 –2009 showed about 7% of the shipments were contaminated by Salmonella bacteria, some of it\\nantibiotic-resistant.[26] As most spices are cooke d before being served salmonella contamination often has'), Document(id='7941f837-96bb-41bf-b008-a2376cae25ba', metadata={'page': 3.0, 'pdf_id': 'b5f7841d-6055-4c36-a394-01d6ee276b7f'}, page_content='pepper—by far the most common spice—is relatively ineffective,\\nand in any case, salt, which is far cheaper, is also far more\\neffective.[23]\\nSeeds, such as fennel, mustard, nutmeg, and black\\npepper\\nFruits, such as Cayenne pepper and Chimayo pepper\\nArils, such as mace (part of nutmeg plant fruit)\\nBarks, such as True Cinnamon and cassia\\nFlower buds, such as cloves\\nStigmas, such as saffron\\nRoots and rhizomes, such as turmeric, ginger and\\ngalangal\\nResins, such as asafoetida\\nAdvieh (Iran)')], 'answer': 'India produces the most spices, contributing to 75% of global spice production.'}}\n"
     ]
    }
   ],
   "source": [
    "for chunk in app.stream(\n",
    "    {\"input\": \"Which country produces most spices?\"},\n",
    "    config=config,\n",
    "):\n",
    "    print(chunk)"
   ]
  },
  {
   "cell_type": "code",
   "execution_count": null,
   "metadata": {},
   "outputs": [],
   "source": []
  },
  {
   "cell_type": "code",
   "execution_count": 2,
   "metadata": {},
   "outputs": [],
   "source": [
    "from langchain_openai import ChatOpenAI\n",
    "import os\n",
    "\n",
    "\n",
    "# llm = ChatOpenAI(\n",
    "#     model=\"gpt-4o-mini\",\n",
    "#     base_url=\"https://models.inference.ai.azure.com\",\n",
    "#     api_key=os.environ.get(\"GITHUB_API_KEY\")\n",
    "# )\n",
    "\n",
    "llm = ChatOpenAI(\n",
    "    model='Meta-Llama-3.1-405B-Instruct',\n",
    "    base_url=\"https://api.sambanova.ai/v1\",\n",
    "    api_key=os.environ.get(\"SAMBANOVA_API_KEY\"),\n",
    ")"
   ]
  },
  {
   "cell_type": "code",
   "execution_count": 3,
   "metadata": {},
   "outputs": [
    {
     "name": "stdout",
     "output_type": "stream",
     "text": [
      "\n",
      "\"On \n",
      "the moon's \n",
      "pale \n",
      "silvery \n",
      "floor,\n",
      "A \n",
      "secret \n",
      "aquarium waits in \n",
      "store,\n",
      "Goldfish swim \n",
      "in \n",
      "weightless delight,\n",
      "Their \n",
      "scales shining bright in \n",
      "lunar light.\"\n",
      "\n",
      "\n"
     ]
    }
   ],
   "source": [
    "for chunk in llm.stream(\"Write me a 1 verse song about goldfish on the moon\"):\n",
    "    print(chunk.content, flush=True)"
   ]
  },
  {
   "cell_type": "code",
   "execution_count": 4,
   "metadata": {},
   "outputs": [
    {
     "data": {
      "text/plain": [
       "<generator object BaseChatModel.stream at 0x000002318F8DB6E0>"
      ]
     },
     "execution_count": 4,
     "metadata": {},
     "output_type": "execute_result"
    }
   ],
   "source": [
    "llm.stream(\"Write me a 1 verse song about goldfish on the moon\")"
   ]
  },
  {
   "cell_type": "code",
   "execution_count": null,
   "metadata": {},
   "outputs": [],
   "source": []
  }
 ],
 "metadata": {
  "kernelspec": {
   "display_name": ".venv",
   "language": "python",
   "name": "python3"
  },
  "language_info": {
   "codemirror_mode": {
    "name": "ipython",
    "version": 3
   },
   "file_extension": ".py",
   "mimetype": "text/x-python",
   "name": "python",
   "nbconvert_exporter": "python",
   "pygments_lexer": "ipython3",
   "version": "3.12.4"
  }
 },
 "nbformat": 4,
 "nbformat_minor": 2
}
